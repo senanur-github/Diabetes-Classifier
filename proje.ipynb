{
 "cells": [
  {
   "cell_type": "markdown",
   "metadata": {},
   "source": [
    "<b>Adı, Soyadı =</b> Sena Nur Özdemir <br/>\n",
    "<b>Numarası =</b> 21040301013<br/>\n",
    "<b>Dersi =</b> Makine Öğrenmesi FET340<br/>\n",
    "<b>Öğretim Elemanı =</b> Gökalp Tulum<br/>\n",
    "<b>Üniversitesi =</b> İstanbul Topkapı Üniversitesi<br/>\n",
    "<b>Fakültesi =</b> Mühendislik Fakültesi<br/>\n",
    "<b>Bölümü =</b> Yazılım Mühendisliği<br/>\n",
    "<b>Sınıfı = </b>3. sınıf"
   ]
  },
  {
   "cell_type": "code",
   "execution_count": 158,
   "metadata": {},
   "outputs": [],
   "source": [
    "import numpy as np\n",
    "import pandas as pd\n",
    "import matplotlib.pyplot as plt\n",
    "import seaborn as sn\n",
    "from sklearn.model_selection import train_test_split, GridSearchCV\n",
    "from sklearn.naive_bayes import GaussianNB\n",
    "from sklearn.metrics import confusion_matrix, classification_report, roc_auc_score\n",
    "from sklearn.neighbors import KNeighborsClassifier\n",
    "from sklearn.neural_network import MLPClassifier\n",
    "from sklearn.svm import SVC"
   ]
  },
  {
   "cell_type": "markdown",
   "metadata": {},
   "source": [
    "Verisetini yükleme ve inceleme işlemleri"
   ]
  },
  {
   "cell_type": "code",
   "execution_count": 159,
   "metadata": {},
   "outputs": [
    {
     "data": {
      "text/html": [
       "<div>\n",
       "<style scoped>\n",
       "    .dataframe tbody tr th:only-of-type {\n",
       "        vertical-align: middle;\n",
       "    }\n",
       "\n",
       "    .dataframe tbody tr th {\n",
       "        vertical-align: top;\n",
       "    }\n",
       "\n",
       "    .dataframe thead th {\n",
       "        text-align: right;\n",
       "    }\n",
       "</style>\n",
       "<table border=\"1\" class=\"dataframe\">\n",
       "  <thead>\n",
       "    <tr style=\"text-align: right;\">\n",
       "      <th></th>\n",
       "      <th>Pregnancies</th>\n",
       "      <th>Glucose</th>\n",
       "      <th>BloodPressure</th>\n",
       "      <th>SkinThickness</th>\n",
       "      <th>Insulin</th>\n",
       "      <th>BMI</th>\n",
       "      <th>DiabetesPedigreeFunction</th>\n",
       "      <th>Age</th>\n",
       "      <th>Outcome</th>\n",
       "    </tr>\n",
       "  </thead>\n",
       "  <tbody>\n",
       "    <tr>\n",
       "      <th>0</th>\n",
       "      <td>6</td>\n",
       "      <td>148</td>\n",
       "      <td>72</td>\n",
       "      <td>35</td>\n",
       "      <td>0</td>\n",
       "      <td>33.6</td>\n",
       "      <td>0.627</td>\n",
       "      <td>50</td>\n",
       "      <td>1</td>\n",
       "    </tr>\n",
       "    <tr>\n",
       "      <th>1</th>\n",
       "      <td>1</td>\n",
       "      <td>85</td>\n",
       "      <td>66</td>\n",
       "      <td>29</td>\n",
       "      <td>0</td>\n",
       "      <td>26.6</td>\n",
       "      <td>0.351</td>\n",
       "      <td>31</td>\n",
       "      <td>0</td>\n",
       "    </tr>\n",
       "    <tr>\n",
       "      <th>2</th>\n",
       "      <td>8</td>\n",
       "      <td>183</td>\n",
       "      <td>64</td>\n",
       "      <td>0</td>\n",
       "      <td>0</td>\n",
       "      <td>23.3</td>\n",
       "      <td>0.672</td>\n",
       "      <td>32</td>\n",
       "      <td>1</td>\n",
       "    </tr>\n",
       "    <tr>\n",
       "      <th>3</th>\n",
       "      <td>1</td>\n",
       "      <td>89</td>\n",
       "      <td>66</td>\n",
       "      <td>23</td>\n",
       "      <td>94</td>\n",
       "      <td>28.1</td>\n",
       "      <td>0.167</td>\n",
       "      <td>21</td>\n",
       "      <td>0</td>\n",
       "    </tr>\n",
       "    <tr>\n",
       "      <th>4</th>\n",
       "      <td>0</td>\n",
       "      <td>137</td>\n",
       "      <td>40</td>\n",
       "      <td>35</td>\n",
       "      <td>168</td>\n",
       "      <td>43.1</td>\n",
       "      <td>2.288</td>\n",
       "      <td>33</td>\n",
       "      <td>1</td>\n",
       "    </tr>\n",
       "  </tbody>\n",
       "</table>\n",
       "</div>"
      ],
      "text/plain": [
       "   Pregnancies  Glucose  BloodPressure  SkinThickness  Insulin   BMI  \\\n",
       "0            6      148             72             35        0  33.6   \n",
       "1            1       85             66             29        0  26.6   \n",
       "2            8      183             64              0        0  23.3   \n",
       "3            1       89             66             23       94  28.1   \n",
       "4            0      137             40             35      168  43.1   \n",
       "\n",
       "   DiabetesPedigreeFunction  Age  Outcome  \n",
       "0                     0.627   50        1  \n",
       "1                     0.351   31        0  \n",
       "2                     0.672   32        1  \n",
       "3                     0.167   21        0  \n",
       "4                     2.288   33        1  "
      ]
     },
     "execution_count": 159,
     "metadata": {},
     "output_type": "execute_result"
    }
   ],
   "source": [
    "df=pd.read_csv('diabetes.csv')\n",
    "df.head()"
   ]
  },
  {
   "cell_type": "code",
   "execution_count": 160,
   "metadata": {},
   "outputs": [
    {
     "data": {
      "text/plain": [
       "Pregnancies                 0\n",
       "Glucose                     0\n",
       "BloodPressure               0\n",
       "SkinThickness               0\n",
       "Insulin                     0\n",
       "BMI                         0\n",
       "DiabetesPedigreeFunction    0\n",
       "Age                         0\n",
       "Outcome                     0\n",
       "dtype: int64"
      ]
     },
     "execution_count": 160,
     "metadata": {},
     "output_type": "execute_result"
    }
   ],
   "source": [
    "df.isnull().sum()"
   ]
  },
  {
   "cell_type": "code",
   "execution_count": 161,
   "metadata": {},
   "outputs": [
    {
     "name": "stdout",
     "output_type": "stream",
     "text": [
      "<class 'pandas.core.frame.DataFrame'>\n",
      "RangeIndex: 768 entries, 0 to 767\n",
      "Data columns (total 9 columns):\n",
      " #   Column                    Non-Null Count  Dtype  \n",
      "---  ------                    --------------  -----  \n",
      " 0   Pregnancies               768 non-null    int64  \n",
      " 1   Glucose                   768 non-null    int64  \n",
      " 2   BloodPressure             768 non-null    int64  \n",
      " 3   SkinThickness             768 non-null    int64  \n",
      " 4   Insulin                   768 non-null    int64  \n",
      " 5   BMI                       768 non-null    float64\n",
      " 6   DiabetesPedigreeFunction  768 non-null    float64\n",
      " 7   Age                       768 non-null    int64  \n",
      " 8   Outcome                   768 non-null    int64  \n",
      "dtypes: float64(2), int64(7)\n",
      "memory usage: 54.1 KB\n"
     ]
    }
   ],
   "source": [
    "df.info()"
   ]
  },
  {
   "cell_type": "code",
   "execution_count": 162,
   "metadata": {},
   "outputs": [
    {
     "data": {
      "text/plain": [
       "Outcome\n",
       "0    500\n",
       "1    268\n",
       "Name: count, dtype: int64"
      ]
     },
     "execution_count": 162,
     "metadata": {},
     "output_type": "execute_result"
    }
   ],
   "source": [
    "diabetSayisi=df['Outcome'].value_counts()\n",
    "diabetSayisi"
   ]
  },
  {
   "cell_type": "code",
   "execution_count": 163,
   "metadata": {},
   "outputs": [
    {
     "data": {
      "text/html": [
       "<div>\n",
       "<style scoped>\n",
       "    .dataframe tbody tr th:only-of-type {\n",
       "        vertical-align: middle;\n",
       "    }\n",
       "\n",
       "    .dataframe tbody tr th {\n",
       "        vertical-align: top;\n",
       "    }\n",
       "\n",
       "    .dataframe thead th {\n",
       "        text-align: right;\n",
       "    }\n",
       "</style>\n",
       "<table border=\"1\" class=\"dataframe\">\n",
       "  <thead>\n",
       "    <tr style=\"text-align: right;\">\n",
       "      <th></th>\n",
       "      <th>Pregnancies</th>\n",
       "      <th>Glucose</th>\n",
       "      <th>BloodPressure</th>\n",
       "      <th>SkinThickness</th>\n",
       "      <th>Insulin</th>\n",
       "      <th>BMI</th>\n",
       "      <th>DiabetesPedigreeFunction</th>\n",
       "      <th>Age</th>\n",
       "      <th>Outcome</th>\n",
       "    </tr>\n",
       "  </thead>\n",
       "  <tbody>\n",
       "    <tr>\n",
       "      <th>count</th>\n",
       "      <td>768.000000</td>\n",
       "      <td>768.000000</td>\n",
       "      <td>768.000000</td>\n",
       "      <td>768.000000</td>\n",
       "      <td>768.000000</td>\n",
       "      <td>768.000000</td>\n",
       "      <td>768.000000</td>\n",
       "      <td>768.000000</td>\n",
       "      <td>768.000000</td>\n",
       "    </tr>\n",
       "    <tr>\n",
       "      <th>mean</th>\n",
       "      <td>3.845052</td>\n",
       "      <td>120.894531</td>\n",
       "      <td>69.105469</td>\n",
       "      <td>20.536458</td>\n",
       "      <td>79.799479</td>\n",
       "      <td>31.992578</td>\n",
       "      <td>0.471876</td>\n",
       "      <td>33.240885</td>\n",
       "      <td>0.348958</td>\n",
       "    </tr>\n",
       "    <tr>\n",
       "      <th>std</th>\n",
       "      <td>3.369578</td>\n",
       "      <td>31.972618</td>\n",
       "      <td>19.355807</td>\n",
       "      <td>15.952218</td>\n",
       "      <td>115.244002</td>\n",
       "      <td>7.884160</td>\n",
       "      <td>0.331329</td>\n",
       "      <td>11.760232</td>\n",
       "      <td>0.476951</td>\n",
       "    </tr>\n",
       "    <tr>\n",
       "      <th>min</th>\n",
       "      <td>0.000000</td>\n",
       "      <td>0.000000</td>\n",
       "      <td>0.000000</td>\n",
       "      <td>0.000000</td>\n",
       "      <td>0.000000</td>\n",
       "      <td>0.000000</td>\n",
       "      <td>0.078000</td>\n",
       "      <td>21.000000</td>\n",
       "      <td>0.000000</td>\n",
       "    </tr>\n",
       "    <tr>\n",
       "      <th>25%</th>\n",
       "      <td>1.000000</td>\n",
       "      <td>99.000000</td>\n",
       "      <td>62.000000</td>\n",
       "      <td>0.000000</td>\n",
       "      <td>0.000000</td>\n",
       "      <td>27.300000</td>\n",
       "      <td>0.243750</td>\n",
       "      <td>24.000000</td>\n",
       "      <td>0.000000</td>\n",
       "    </tr>\n",
       "    <tr>\n",
       "      <th>50%</th>\n",
       "      <td>3.000000</td>\n",
       "      <td>117.000000</td>\n",
       "      <td>72.000000</td>\n",
       "      <td>23.000000</td>\n",
       "      <td>30.500000</td>\n",
       "      <td>32.000000</td>\n",
       "      <td>0.372500</td>\n",
       "      <td>29.000000</td>\n",
       "      <td>0.000000</td>\n",
       "    </tr>\n",
       "    <tr>\n",
       "      <th>75%</th>\n",
       "      <td>6.000000</td>\n",
       "      <td>140.250000</td>\n",
       "      <td>80.000000</td>\n",
       "      <td>32.000000</td>\n",
       "      <td>127.250000</td>\n",
       "      <td>36.600000</td>\n",
       "      <td>0.626250</td>\n",
       "      <td>41.000000</td>\n",
       "      <td>1.000000</td>\n",
       "    </tr>\n",
       "    <tr>\n",
       "      <th>max</th>\n",
       "      <td>17.000000</td>\n",
       "      <td>199.000000</td>\n",
       "      <td>122.000000</td>\n",
       "      <td>99.000000</td>\n",
       "      <td>846.000000</td>\n",
       "      <td>67.100000</td>\n",
       "      <td>2.420000</td>\n",
       "      <td>81.000000</td>\n",
       "      <td>1.000000</td>\n",
       "    </tr>\n",
       "  </tbody>\n",
       "</table>\n",
       "</div>"
      ],
      "text/plain": [
       "       Pregnancies     Glucose  BloodPressure  SkinThickness     Insulin  \\\n",
       "count   768.000000  768.000000     768.000000     768.000000  768.000000   \n",
       "mean      3.845052  120.894531      69.105469      20.536458   79.799479   \n",
       "std       3.369578   31.972618      19.355807      15.952218  115.244002   \n",
       "min       0.000000    0.000000       0.000000       0.000000    0.000000   \n",
       "25%       1.000000   99.000000      62.000000       0.000000    0.000000   \n",
       "50%       3.000000  117.000000      72.000000      23.000000   30.500000   \n",
       "75%       6.000000  140.250000      80.000000      32.000000  127.250000   \n",
       "max      17.000000  199.000000     122.000000      99.000000  846.000000   \n",
       "\n",
       "              BMI  DiabetesPedigreeFunction         Age     Outcome  \n",
       "count  768.000000                768.000000  768.000000  768.000000  \n",
       "mean    31.992578                  0.471876   33.240885    0.348958  \n",
       "std      7.884160                  0.331329   11.760232    0.476951  \n",
       "min      0.000000                  0.078000   21.000000    0.000000  \n",
       "25%     27.300000                  0.243750   24.000000    0.000000  \n",
       "50%     32.000000                  0.372500   29.000000    0.000000  \n",
       "75%     36.600000                  0.626250   41.000000    1.000000  \n",
       "max     67.100000                  2.420000   81.000000    1.000000  "
      ]
     },
     "execution_count": 163,
     "metadata": {},
     "output_type": "execute_result"
    }
   ],
   "source": [
    "df.describe()"
   ]
  },
  {
   "cell_type": "code",
   "execution_count": 164,
   "metadata": {},
   "outputs": [],
   "source": [
    "from sklearn.preprocessing import MinMaxScaler\n",
    "min_max = MinMaxScaler()\n",
    "df = pd.DataFrame(min_max.fit_transform(df), columns=df.columns)"
   ]
  },
  {
   "cell_type": "code",
   "execution_count": 165,
   "metadata": {},
   "outputs": [
    {
     "data": {
      "text/html": [
       "<div>\n",
       "<style scoped>\n",
       "    .dataframe tbody tr th:only-of-type {\n",
       "        vertical-align: middle;\n",
       "    }\n",
       "\n",
       "    .dataframe tbody tr th {\n",
       "        vertical-align: top;\n",
       "    }\n",
       "\n",
       "    .dataframe thead th {\n",
       "        text-align: right;\n",
       "    }\n",
       "</style>\n",
       "<table border=\"1\" class=\"dataframe\">\n",
       "  <thead>\n",
       "    <tr style=\"text-align: right;\">\n",
       "      <th></th>\n",
       "      <th>Pregnancies</th>\n",
       "      <th>Glucose</th>\n",
       "      <th>BloodPressure</th>\n",
       "      <th>SkinThickness</th>\n",
       "      <th>Insulin</th>\n",
       "      <th>BMI</th>\n",
       "      <th>DiabetesPedigreeFunction</th>\n",
       "      <th>Age</th>\n",
       "      <th>Outcome</th>\n",
       "    </tr>\n",
       "  </thead>\n",
       "  <tbody>\n",
       "    <tr>\n",
       "      <th>0</th>\n",
       "      <td>0.352941</td>\n",
       "      <td>0.743719</td>\n",
       "      <td>0.590164</td>\n",
       "      <td>0.353535</td>\n",
       "      <td>0.000000</td>\n",
       "      <td>0.500745</td>\n",
       "      <td>0.234415</td>\n",
       "      <td>0.483333</td>\n",
       "      <td>1.0</td>\n",
       "    </tr>\n",
       "    <tr>\n",
       "      <th>1</th>\n",
       "      <td>0.058824</td>\n",
       "      <td>0.427136</td>\n",
       "      <td>0.540984</td>\n",
       "      <td>0.292929</td>\n",
       "      <td>0.000000</td>\n",
       "      <td>0.396423</td>\n",
       "      <td>0.116567</td>\n",
       "      <td>0.166667</td>\n",
       "      <td>0.0</td>\n",
       "    </tr>\n",
       "    <tr>\n",
       "      <th>2</th>\n",
       "      <td>0.470588</td>\n",
       "      <td>0.919598</td>\n",
       "      <td>0.524590</td>\n",
       "      <td>0.000000</td>\n",
       "      <td>0.000000</td>\n",
       "      <td>0.347243</td>\n",
       "      <td>0.253629</td>\n",
       "      <td>0.183333</td>\n",
       "      <td>1.0</td>\n",
       "    </tr>\n",
       "    <tr>\n",
       "      <th>3</th>\n",
       "      <td>0.058824</td>\n",
       "      <td>0.447236</td>\n",
       "      <td>0.540984</td>\n",
       "      <td>0.232323</td>\n",
       "      <td>0.111111</td>\n",
       "      <td>0.418778</td>\n",
       "      <td>0.038002</td>\n",
       "      <td>0.000000</td>\n",
       "      <td>0.0</td>\n",
       "    </tr>\n",
       "    <tr>\n",
       "      <th>4</th>\n",
       "      <td>0.000000</td>\n",
       "      <td>0.688442</td>\n",
       "      <td>0.327869</td>\n",
       "      <td>0.353535</td>\n",
       "      <td>0.198582</td>\n",
       "      <td>0.642325</td>\n",
       "      <td>0.943638</td>\n",
       "      <td>0.200000</td>\n",
       "      <td>1.0</td>\n",
       "    </tr>\n",
       "  </tbody>\n",
       "</table>\n",
       "</div>"
      ],
      "text/plain": [
       "   Pregnancies   Glucose  BloodPressure  SkinThickness   Insulin       BMI  \\\n",
       "0     0.352941  0.743719       0.590164       0.353535  0.000000  0.500745   \n",
       "1     0.058824  0.427136       0.540984       0.292929  0.000000  0.396423   \n",
       "2     0.470588  0.919598       0.524590       0.000000  0.000000  0.347243   \n",
       "3     0.058824  0.447236       0.540984       0.232323  0.111111  0.418778   \n",
       "4     0.000000  0.688442       0.327869       0.353535  0.198582  0.642325   \n",
       "\n",
       "   DiabetesPedigreeFunction       Age  Outcome  \n",
       "0                  0.234415  0.483333      1.0  \n",
       "1                  0.116567  0.166667      0.0  \n",
       "2                  0.253629  0.183333      1.0  \n",
       "3                  0.038002  0.000000      0.0  \n",
       "4                  0.943638  0.200000      1.0  "
      ]
     },
     "execution_count": 165,
     "metadata": {},
     "output_type": "execute_result"
    }
   ],
   "source": [
    "df.head()"
   ]
  },
  {
   "cell_type": "code",
   "execution_count": 166,
   "metadata": {},
   "outputs": [],
   "source": [
    "x = df.drop('Outcome', axis=1)\n",
    "y = df['Outcome']\n",
    "\n",
    "#verisetini %70 eğitim(train), %30 test olarak bölme\n",
    "X_train, X_test, y_train, y_test = train_test_split(x, y, test_size=0.3, random_state=42)"
   ]
  },
  {
   "cell_type": "markdown",
   "metadata": {},
   "source": [
    "<b>Naive Bayes Sınıflandırıcısı</b>"
   ]
  },
  {
   "cell_type": "code",
   "execution_count": 167,
   "metadata": {},
   "outputs": [
    {
     "name": "stdout",
     "output_type": "stream",
     "text": [
      "Confusion Matrix [[119  32]\n",
      " [ 27  53]]\n",
      "              precision    recall  f1-score   support\n",
      "\n",
      "         0.0       0.82      0.79      0.80       151\n",
      "         1.0       0.62      0.66      0.64        80\n",
      "\n",
      "    accuracy                           0.74       231\n",
      "   macro avg       0.72      0.73      0.72       231\n",
      "weighted avg       0.75      0.74      0.75       231\n",
      "\n",
      "ROC AUC Score: 0.7252897350993377\n"
     ]
    }
   ],
   "source": [
    "nb = GaussianNB()\n",
    "nb.fit(X_train, y_train)\n",
    "\n",
    "y_pred = nb.predict(X_test)\n",
    "\n",
    "print(\"Confusion Matrix\", confusion_matrix(y_test, y_pred))\n",
    "print(classification_report(y_test, y_pred))\n",
    "print(\"ROC AUC Score:\", roc_auc_score(y_test, y_pred))"
   ]
  },
  {
   "cell_type": "markdown",
   "metadata": {},
   "source": [
    "Accuracy = 0.74<br>\n",
    "Specificity = recall 0.0 = 0.79<br>\n",
    "Sensitivity = recall 1.0 = 0.66<br>\n",
    "F1-score 1.0 = 0.62"
   ]
  },
  {
   "cell_type": "markdown",
   "metadata": {},
   "source": [
    "Confusion Matrix'e bakıldığında, modelin negatif sınıfı (0) 119 doğru ve 32 yanlış, pozitif sınıfı (1) ise 27 yanlış ve 53 doğru sınıflandırılmış. Bu da modelin negatif sınıfı tanımlamada daha başarılı olduğunu, ancak pozitif sınıfı tanımlamada iyileştirme gerektiğini gösteriyor.<br>\n",
    "Naive Bayes sınıflandırıcısı %74 doğruluk oranıyla ortalamanın üzerinde bir performans sergilemekte. Negatif sınıfı (sınıf 0) tanımada daha başarılı olup bu sınıfta daha yüksek precision ve recall değerlerine sahip, pozitif sınıfı (sınıf 1) tanımada performans biraz daha düşük bu da F1-skoruna yansıyor. F1-skorları negatif sınıfları pozitif sınıflara göre daha iyi tanımladığını gösteriyor bu sebeplede pozitif sınıflar iyileştirilmeli. ROC AUC skoru 0.725 modelin sınıfları ayırt etme yeteneği kabul edilebilir. Genel olarak model iyi bir performans sergiliyor ancak pozitif sınıfları tanımada iyileştirme yapılabilir."
   ]
  },
  {
   "cell_type": "markdown",
   "metadata": {},
   "source": [
    "<b>K-En Yakın Komşuluk Sınıflandırıcısı (K-Neighbors)</b>"
   ]
  },
  {
   "cell_type": "code",
   "execution_count": 168,
   "metadata": {},
   "outputs": [
    {
     "name": "stdout",
     "output_type": "stream",
     "text": [
      "Confusion Matrix\n",
      " [[124  27]\n",
      " [ 44  36]]\n",
      "              precision    recall  f1-score   support\n",
      "\n",
      "         0.0       0.74      0.82      0.78       151\n",
      "         1.0       0.57      0.45      0.50        80\n",
      "\n",
      "    accuracy                           0.69       231\n",
      "   macro avg       0.65      0.64      0.64       231\n",
      "weighted avg       0.68      0.69      0.68       231\n",
      "\n",
      "ROC AUC Score: 0.6355960264900662\n"
     ]
    }
   ],
   "source": [
    "param_grid = {'n_neighbors': range(1, 31)}\n",
    "\n",
    "grid_search = GridSearchCV(KNeighborsClassifier(), param_grid, cv=5)\n",
    "grid_search.fit(X_train, y_train)\n",
    "\n",
    "best_knn = grid_search.best_estimator_\n",
    "\n",
    "y_pred_knn = best_knn.predict(X_test)\n",
    "\n",
    "print(\"Confusion Matrix\\n\", confusion_matrix(y_test, y_pred_knn))\n",
    "print(classification_report(y_test, y_pred_knn))\n",
    "print(\"ROC AUC Score:\", roc_auc_score(y_test, y_pred_knn))"
   ]
  },
  {
   "cell_type": "markdown",
   "metadata": {},
   "source": [
    "Accuracy = 0.69<br>\n",
    "Specificity = recall 0.0 = 0.82<br>\n",
    "Sensitivity = recall 1.0 = 0.45<br>\n",
    "F1-score 1.0 = 0.50"
   ]
  },
  {
   "cell_type": "markdown",
   "metadata": {},
   "source": [
    "Confusion Matrix'e bakıldığında, negatif sınıfın (0) 124 doğru ve 27 yanlış, pozitif sınıfın (1) ise 44 yanlış ve 36 doğru sınıflandırıldığı görülüyor. Bu da negatif sınıfı daha iyi tanımlamış olsa da pozitif sınıfın tanımlanmasında iyileştirme gerekiyor gibi görünüyor.<br>\n",
    "Precision, recall ve F1-skorlarına göre, negatif sınıfın (0) performansı daha yüksekken pozitif sınıfın (1) performansı daha düşük. Bu da pozitif sınıfların tanımlanmasında iyileştirme yapılması gerektiğini gösteriyor. ROC AUC skoru 0.64 ise modelin sınıfları ayırt etme yeteneğinin orta derecede olduğunu belirtiyor. Genel olarak K-Neighbors modeli iyi bir performans sergiliyor ancak pozitif sınıfları tanımada iyileştirme yapılması gerekiyor gibi görünüyor."
   ]
  },
  {
   "cell_type": "code",
   "execution_count": 169,
   "metadata": {},
   "outputs": [
    {
     "name": "stdout",
     "output_type": "stream",
     "text": [
      "Confusion Matrix\n",
      " [[124  27]\n",
      " [ 44  36]]\n",
      "              precision    recall  f1-score   support\n",
      "\n",
      "         0.0       0.74      0.82      0.78       151\n",
      "         1.0       0.57      0.45      0.50        80\n",
      "\n",
      "    accuracy                           0.69       231\n",
      "   macro avg       0.65      0.64      0.64       231\n",
      "weighted avg       0.68      0.69      0.68       231\n",
      "\n",
      "ROC AUC Score: 0.6355960264900662\n"
     ]
    }
   ],
   "source": [
    "param_grid = {'n_neighbors': range(1, 51)}\n",
    "#range değer aralığını değiştirdiğimde çıktımda bir değişiklik gözlemleyemedim\n",
    "\n",
    "grid_search = GridSearchCV(KNeighborsClassifier(), param_grid, cv=5)\n",
    "grid_search.fit(X_train, y_train)\n",
    "\n",
    "best_knn = grid_search.best_estimator_\n",
    "\n",
    "y_pred_knn = best_knn.predict(X_test)\n",
    "\n",
    "print(\"Confusion Matrix\\n\", confusion_matrix(y_test, y_pred_knn))\n",
    "print(classification_report(y_test, y_pred_knn))\n",
    "print(\"ROC AUC Score:\", roc_auc_score(y_test, y_pred_knn))"
   ]
  },
  {
   "cell_type": "code",
   "execution_count": 170,
   "metadata": {},
   "outputs": [
    {
     "name": "stdout",
     "output_type": "stream",
     "text": [
      "Confusion Matrix\n",
      " [[121  30]\n",
      " [ 40  40]]\n",
      "              precision    recall  f1-score   support\n",
      "\n",
      "         0.0       0.75      0.80      0.78       151\n",
      "         1.0       0.57      0.50      0.53        80\n",
      "\n",
      "    accuracy                           0.70       231\n",
      "   macro avg       0.66      0.65      0.65       231\n",
      "weighted avg       0.69      0.70      0.69       231\n",
      "\n",
      "ROC AUC Score: 0.6506622516556292\n"
     ]
    }
   ],
   "source": [
    "from sklearn.pipeline import Pipeline\n",
    "from sklearn.preprocessing import StandardScaler\n",
    "\n",
    "#parametrelere bağlı sonuçların biraz daha iyileştiği gözlemlenebilir. bu sonuçları kullanacağım\n",
    "pipeline = Pipeline([\n",
    "    ('scaler', StandardScaler()), #özelliklerin ortalamasını 0 ve standart sapmasını 1 olarak ölçeklendirme\n",
    "    ('knn', KNeighborsClassifier())\n",
    "])\n",
    "\n",
    "param_grid = {\n",
    "    'knn__n_neighbors': range(1, 31),\n",
    "}\n",
    "\n",
    "grid_search = GridSearchCV(pipeline, param_grid, cv=5)\n",
    "grid_search.fit(X_train, y_train)\n",
    "\n",
    "best_knn = grid_search.best_estimator_\n",
    "\n",
    "y_pred_knn = best_knn.predict(X_test)\n",
    "\n",
    "print(\"Confusion Matrix\\n\", confusion_matrix(y_test, y_pred_knn))\n",
    "print(classification_report(y_test, y_pred_knn))\n",
    "print(\"ROC AUC Score:\", roc_auc_score(y_test, y_pred_knn))"
   ]
  },
  {
   "cell_type": "markdown",
   "metadata": {},
   "source": [
    "Accuracy = 0.70<br>\n",
    "Specificity = recall 0.0 = 0.80<br>\n",
    "Sensitivity = recall 1.0 = 0.50<br>\n",
    "F1-score 1.0 = 0.53"
   ]
  },
  {
   "cell_type": "markdown",
   "metadata": {},
   "source": [
    "<b>MLP(Multi-Layer Perceptron) Sınıflandırıcısı</b>"
   ]
  },
  {
   "cell_type": "code",
   "execution_count": 171,
   "metadata": {},
   "outputs": [
    {
     "name": "stdout",
     "output_type": "stream",
     "text": [
      "Confusion Matrix\n",
      " [[121  30]\n",
      " [ 31  49]]\n",
      "              precision    recall  f1-score   support\n",
      "\n",
      "         0.0       0.80      0.80      0.80       151\n",
      "         1.0       0.62      0.61      0.62        80\n",
      "\n",
      "    accuracy                           0.74       231\n",
      "   macro avg       0.71      0.71      0.71       231\n",
      "weighted avg       0.74      0.74      0.74       231\n",
      "\n",
      "ROC AUC Skoru: 0.7069122516556292\n"
     ]
    },
    {
     "name": "stderr",
     "output_type": "stream",
     "text": [
      "C:\\Users\\senan\\AppData\\Local\\Packages\\PythonSoftwareFoundation.Python.3.11_qbz5n2kfra8p0\\LocalCache\\local-packages\\Python311\\site-packages\\sklearn\\neural_network\\_multilayer_perceptron.py:691: ConvergenceWarning: Stochastic Optimizer: Maximum iterations (1000) reached and the optimization hasn't converged yet.\n",
      "  warnings.warn(\n"
     ]
    }
   ],
   "source": [
    "mlp = MLPClassifier(max_iter=1000, random_state=42)\n",
    "mlp.fit(X_train, y_train)\n",
    "y_pred_mlp = mlp.predict(X_test)\n",
    "\n",
    "print(\"Confusion Matrix\\n\", confusion_matrix(y_test, y_pred_mlp))\n",
    "print(classification_report(y_test, y_pred_mlp))\n",
    "print(\"ROC AUC Skoru:\", roc_auc_score(y_test, y_pred_mlp))"
   ]
  },
  {
   "cell_type": "markdown",
   "metadata": {},
   "source": [
    "Accuracy = 0.74<br>\n",
    "Specificity = recall 0.0 = 0.80<br>\n",
    "Sensitivity = recall 1.0 = 0.61<br>\n",
    "F1-score 1.0 = 0.62"
   ]
  },
  {
   "cell_type": "markdown",
   "metadata": {},
   "source": [
    "Confusion Matrix'e bakıldığında negatif sınıfın (0) 121 doğru ve 30 yanlış, pozitif sınıfın (1) ise 31 yanlış ve 49 doğru sınıflandırıldığı görülmektedir. Negatif sınıfı tanımlamada biraz daha başarılı olsa da, pozitif sınıfın tanımlanmasında iyileştirme gerekir.<br>\n",
    "Precision, recall ve F1-skorlarına göre, negatif sınıfın performansı pozitif sınıfa göre biraz daha yüksek çıkmıştır. Bu da modelin negatif sınıfları daha iyi tanımladığını ancak pozitif sınıfları daha az başarıyla tanımladığını gösteriyor. ROC AUC skoru ise 0.71 olması ise bu da modelin sınıfları ayırt etme yeteneğinin kabul edilebilir olduğunu gösteriyor. Genel olarak MLP modeli iyi bir performans sergilemektedir ancak pozitif sınıfları tanımlamada daha fazla iyileştirme yapılması gerekmekte."
   ]
  },
  {
   "cell_type": "markdown",
   "metadata": {},
   "source": [
    "<b>SVM(Support Vector Machines) Sınıflandırıcısı</b>"
   ]
  },
  {
   "cell_type": "code",
   "execution_count": 172,
   "metadata": {},
   "outputs": [
    {
     "name": "stdout",
     "output_type": "stream",
     "text": [
      "Confusion Matrix\n",
      " [[126  25]\n",
      " [ 32  48]]\n",
      "              precision    recall  f1-score   support\n",
      "\n",
      "         0.0       0.80      0.83      0.82       151\n",
      "         1.0       0.66      0.60      0.63        80\n",
      "\n",
      "    accuracy                           0.75       231\n",
      "   macro avg       0.73      0.72      0.72       231\n",
      "weighted avg       0.75      0.75      0.75       231\n",
      "\n",
      "ROC AUC Skoru: 0.7172185430463577\n"
     ]
    }
   ],
   "source": [
    "svm = SVC(probability=True, random_state=42)\n",
    "svm.fit(X_train, y_train)\n",
    "y_pred_svm = svm.predict(X_test)\n",
    "\n",
    "print(\"Confusion Matrix\\n\", confusion_matrix(y_test, y_pred_svm))\n",
    "print(classification_report(y_test, y_pred_svm))\n",
    "print(\"ROC AUC Skoru:\", roc_auc_score(y_test, y_pred_svm))"
   ]
  },
  {
   "cell_type": "markdown",
   "metadata": {},
   "source": [
    "Accuracy = 0.74<br>\n",
    "Specificity = recall 0.0 = 0.83<br>\n",
    "Sensitivity = recall 1.0 = 0.60<br>\n",
    "F1-score 1.0 = 0.62"
   ]
  },
  {
   "cell_type": "markdown",
   "metadata": {},
   "source": [
    "onfusion Matrix'e bakıldığında, negatif sınıfın (0) 126 doğru ve 25 yanlış, pozitif sınıfın (1) ise 32 yanlış ve 48 doğru sınıflandırıldığı gözlemlenmektedir. Model, negatif sınıfı tanımlamada biraz daha başarılı olsa da, pozitif sınıfın tanımlanmasında iyileştirme gerekmektedir.<br>\n",
    "Precision, recall ve F1-skorlarına göre, negatif sınıfın performansı pozitif sınıfa göre biraz daha yüksek çıkmış. Bu da modelin negatif sınıfları daha iyi tanımladığını, ancak pozitif sınıfları daha az başarıyla tanımladığını gösteriyor. ROC AUC skoru ise 0.72, bu da modelin sınıfları ayırt etme yeteneğinin kabul edilebilir olduğunu gösteriyor. Genel olarak, SVM modeli iyi bir performans sergiliyor ancak pozitif sınıfları tanımlamada daha fazla iyileştirme yapılması gerekmekte."
   ]
  },
  {
   "cell_type": "markdown",
   "metadata": {},
   "source": [
    "//FİNAL<br><br>\n",
    "\n",
    "Naive Bayes<br>\n",
    "K-Neighbors<br>\n",
    "MLP<br>\n",
    "SVM<br><br>\n",
    "\n",
    "\n",
    "Naive Bayes<br>\n",
    "########Confusion Matrix#############<br>\n",
    "[[119  32]<br>\n",
    " [ 27  53]]<br>\n",
    "########sensitivity/specificity/accuracy/f1-score#############<br>\n",
    "sensitivity =  0.45 <br>\n",
    "specificity =  0.82 <br>\n",
    "accuracy =  0.69 <br>\n",
    "f1-score =  0.50<br><br>\n",
    "\n",
    "\n",
    "K-Neighbors <br>\n",
    "########Confusion Matrix#############<br>\n",
    " [[121  30]<br>\n",
    " [ 40  40]]<br>\n",
    "########sensitivity/specificity/accuracy/f1-score#############<br>\n",
    "sensitivity =  0.50 <br>\n",
    "specificity =  0.80 <br>\n",
    "accuracy =  0.70 <br>\n",
    "f1-score =  0.53<br><br>\n",
    "\n",
    "\n",
    "MLP<br>\n",
    "########Confusion Matrix#############<br>\n",
    " [[121  30]<br>\n",
    " [ 31  49]]<br>\n",
    "########sensitivity/specificity/accuracy/f1-score#############<br>\n",
    "sensitivity =  0.61 <br>\n",
    "specificity =  0.80 <br>\n",
    "accuracy =  0.74 <br>\n",
    "f1-score =  0.62<br><br>\n",
    "\n",
    "\n",
    "SVM<br>\n",
    "########Confusion Matrix#############<br>\n",
    " [[126  25]<br>\n",
    " [ 32  48]]<br>\n",
    "########sensitivity/specificity/accuracy/f1-score#############<br>\n",
    "sensitivity =  0.60 <br>\n",
    "specificity =  0.83 <br>\n",
    "accuracy =  0.74 <br>\n",
    "f1-score =  0.62<br><br><br>\n",
    "\n",
    "\n",
    "\n",
    "\n",
    "//VİZE<br><br>\n",
    "\n",
    "LinearRegression<br>\n",
    "LogisticRegression<br>\n",
    "DecisionTreeClassifier<br>\n",
    "Naive Bayes<br><br>\n",
    "\n",
    "Lineer regression<br>\n",
    "########Confusion Matrix#############<br>\n",
    "[[121  30]<br>\n",
    " [ 32  48]]<br>\n",
    "########sensitivity/specificity/accuracy/f1-score#############<br>\n",
    "sensitivity =  0.6 <br>\n",
    "specificity =  0.6153846153846154 <br>\n",
    "accuracy =  0.7316017316017316 <br>\n",
    "f1-score =  0.6075949367088608<br><br>\n",
    "\n",
    "\n",
    "Multinominal Lojistik Regresyon <br>\n",
    "########Confusion Matrix#############<br>\n",
    "[[124  27]<br>\n",
    " [ 34  46]]<br>\n",
    "########sensitivity/specificity/accuracy/f1-score#############<br>\n",
    "sensitivity =  0.575 <br>\n",
    "specificity =  0.6301369863013698 <br>\n",
    "accuracy =  0.7359307359307359 <br>\n",
    "f1-score =  0.6013071895424835<br><br>\n",
    "\n",
    "\n",
    "Karar Ağaçları<br>\n",
    "########Confusion Matrix#############<br>\n",
    "[[118  33]<br>\n",
    " [ 35  45]]<br>\n",
    "########sensitivity/specificity/accuracy/f1-score#############<br>\n",
    "sensitivity =  0.5625 <br>\n",
    "specificity =  0.5769230769230769 <br>\n",
    "accuracy =  0.7056277056277056 <br>\n",
    "f1-score =  0.5696202531645569<br><br>\n",
    "\n",
    "\n",
    "Bayes<br>\n",
    "########Confusion Matrix#############<br>\n",
    "[[119  32]<br>\n",
    " [ 27  53]]<br>\n",
    "########sensitivity/specificity/accuracy/f1-score#############<br>\n",
    "sensitivity =  0.6625 <br>\n",
    "specificity =  0.6235294117647059 <br>\n",
    "accuracy =  0.7445887445887446 <br>\n",
    "f1-score =  0.6424242424242423"
   ]
  },
  {
   "cell_type": "markdown",
   "metadata": {},
   "source": [
    "Bütün sonuçlar incelendiğinde SVM sınıflandırıcının sonuçları diğerlerinden daha iyi şekilde değerlendirilebilir. ama bu parametrelerden hangisinin öncelik verildiğine göre değişkenlik göstermektedir."
   ]
  }
 ],
 "metadata": {
  "kernelspec": {
   "display_name": "Python 3",
   "language": "python",
   "name": "python3"
  },
  "language_info": {
   "codemirror_mode": {
    "name": "ipython",
    "version": 3
   },
   "file_extension": ".py",
   "mimetype": "text/x-python",
   "name": "python",
   "nbconvert_exporter": "python",
   "pygments_lexer": "ipython3",
   "version": "3.11.9"
  }
 },
 "nbformat": 4,
 "nbformat_minor": 2
}
